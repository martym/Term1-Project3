{
 "cells": [
  {
   "cell_type": "markdown",
   "metadata": {},
   "source": [
    "# Project:  Human Development Index (HDI) Indicators from Gapminder\n",
    "\n",
    "## Table of Contents\n",
    "<ul>\n",
    "<li><a href=\"#intro\">Introduction</a></li>\n",
    "<li><a href=\"#wrangling\">Data Wrangling</a></li>\n",
    "<li><a href=\"#eda\">Exploratory Data Analysis</a></li>\n",
    "<li><a href=\"#conclusions\">Conclusions</a></li>\n",
    "</ul>"
   ]
  },
  {
   "cell_type": "markdown",
   "metadata": {},
   "source": [
    "<a id='intro'></a>\n",
    "## Introduction\n",
    "\n",
    "The [Human Development Index](https://en.wikipedia.org/wiki/Human_Development_Index) (HDI) represents the standard-of-living in a country based on three indicators:\n",
    "    - Life expectancy at birth (LEI),\n",
    "    - Gross national income per capita (GNI),\n",
    "    - Mean years of education (MEI & WEI for men and women).\n",
    "\n",
    "The Gapminder database provides datasets for each of these indicators; however, the education level is given by two datasets based on gender rather than a single composite indicator as used in the calculation of the HDI.  The HDI ranges between 0 and 1.  The higher these indicators, the higher the HDI.  Accordingly, exploratory data analysis should reveal fairly strong correlations among them.  It would be interesting to see the relative strengths of these indicators with respect to the HDI."
   ]
  },
  {
   "cell_type": "code",
   "execution_count": 1,
   "metadata": {},
   "outputs": [],
   "source": [
    "import pandas as pd\n",
    "import csv\n",
    "from pprint import pprint\n",
    "import matplotlib.pyplot as plt\n",
    "import numpy as np\n",
    "%matplotlib inline"
   ]
  },
  {
   "cell_type": "markdown",
   "metadata": {},
   "source": [
    "<a id='wrangling'></a>\n",
    "## Data Wrangling\n",
    "\n",
    "### General Properties\n",
    "\n",
    "The datasets from Gapminder are\n",
    "    - HDI:  Human Development Index\n",
    "    - GNI:  Total GNI (PPP, current international $)\n",
    "    - MEI:  Mean years in school (men 25 years and older)\n",
    "    - WEI:  Mean years in school (women 25 years and older)\n",
    "    - LEI:  Life expectancy at birth\n",
    "converted from excel to csv format.\n",
    "\n",
    "Rows for each dataset are a list of countries, and columns are years.  Which countries and years are included varied among the datasets, so an immediate task is to standardize these metrics for analysis.\n",
    "\n"
   ]
  },
  {
   "cell_type": "code",
   "execution_count": 2,
   "metadata": {},
   "outputs": [
    {
     "name": "stdout",
     "output_type": "stream",
     "text": [
      "\n",
      "Indicator: HDI\n",
      "                     HDI   1980   1990   2000   2005   2006   2007   2008  \\\n",
      "0            Afghanistan  0.198  0.246  0.230  0.340  0.354  0.363  0.370   \n",
      "1  Akrotiri and Dhekelia    NaN    NaN    NaN    NaN    NaN    NaN    NaN   \n",
      "2                Albania    NaN  0.656  0.691  0.721  0.724  0.729  0.733   \n",
      "3                Algeria  0.454  0.551  0.624  0.667  0.673  0.680  0.686   \n",
      "4         American Samoa    NaN    NaN    NaN    NaN    NaN    NaN    NaN   \n",
      "\n",
      "    2009   2011  \n",
      "0  0.387  0.398  \n",
      "1    NaN    NaN  \n",
      "2  0.734  0.739  \n",
      "3  0.691  0.698  \n",
      "4    NaN    NaN  \n",
      "\n",
      "Indicator: LEI\n",
      "  Life expectancy with projections  1765  1766  1767  1768  1769  1770  1771  \\\n",
      "0                      Afghanistan   NaN   NaN   NaN   NaN   NaN   NaN   NaN   \n",
      "1                          Albania   NaN   NaN   NaN   NaN   NaN   NaN   NaN   \n",
      "2                          Algeria   NaN   NaN   NaN   NaN   NaN   NaN   NaN   \n",
      "3                   American Samoa   NaN   NaN   NaN   NaN   NaN   NaN   NaN   \n",
      "4                          Andorra   NaN   NaN   NaN   NaN   NaN   NaN   NaN   \n",
      "\n",
      "   1772  1773   ...      2009    2010    2011    2012    2013    2014    2015  \\\n",
      "0   NaN   NaN   ...    59.124  59.612  60.079  60.524  60.947  61.347  61.726   \n",
      "1   NaN   NaN   ...    76.598  76.780  76.979  77.185  77.392  77.600  77.807   \n",
      "2   NaN   NaN   ...    70.477  70.615  70.747  70.874  71.000  71.123  71.246   \n",
      "3   NaN   NaN   ...       NaN     NaN     NaN     NaN     NaN     NaN     NaN   \n",
      "4   NaN   NaN   ...       NaN     NaN     NaN     NaN     NaN     NaN     NaN   \n",
      "\n",
      "     2025    2050    2099  \n",
      "0  64.758  69.467  75.492  \n",
      "1  79.832  83.543  89.070  \n",
      "2  72.380  74.897  80.569  \n",
      "3     NaN     NaN     NaN  \n",
      "4     NaN     NaN     NaN  \n",
      "\n",
      "[5 rows x 255 columns]\n",
      "\n",
      "Indicator: MEI\n",
      "            Row Labels  1970  1971  1972  1973  1974  1975  1976  1977  1978  \\\n",
      "0          Afghanistan   0.7   0.7   0.8   0.8   0.8   0.9   0.9   0.9   1.0   \n",
      "1              Albania   5.1   5.2   5.3   5.5   5.6   5.7   5.9   6.0   6.1   \n",
      "2              Algeria   0.9   0.9   1.0   1.1   1.1   1.2   1.2   1.3   1.4   \n",
      "3               Angola   1.4   1.5   1.5   1.6   1.7   1.7   1.8   1.9   2.0   \n",
      "4  Antigua and Barbuda   7.0   7.1   7.2   7.4   7.5   7.6   7.8   7.9   8.1   \n",
      "\n",
      "   ...   2000  2001  2002  2003  2004  2005  2006  2007  2008  2009  \n",
      "0  ...    2.1   2.1   2.2   2.3   2.3   2.4   2.4   2.5   2.6   2.6  \n",
      "1  ...    9.1   9.2   9.4   9.5   9.6   9.8   9.9  10.0  10.1  10.2  \n",
      "2  ...    3.7   3.8   3.9   4.0   4.1   4.3   4.4   4.5   4.6   4.7  \n",
      "3  ...    4.0   4.1   4.3   4.4   4.5   4.6   4.7   4.9   5.0   5.1  \n",
      "4  ...   11.0  11.1  11.2  11.3  11.4  11.5  11.5  11.6  11.7  11.8  \n",
      "\n",
      "[5 rows x 41 columns]\n",
      "\n",
      "Indicator: WEI\n",
      "            Row Labels  1970  1971  1972  1973  1974  1975  1976  1977  1978  \\\n",
      "0          Afghanistan   0.0   0.1   0.1   0.1   0.1   0.1   0.1   0.1   0.1   \n",
      "1              Albania   3.9   4.0   4.1   4.2   4.3   4.5   4.6   4.7   4.8   \n",
      "2              Algeria   0.6   0.6   0.6   0.7   0.7   0.8   0.8   0.9   0.9   \n",
      "3               Angola   0.5   0.5   0.5   0.5   0.6   0.6   0.6   0.7   0.7   \n",
      "4  Antigua and Barbuda   7.0   7.1   7.2   7.4   7.5   7.7   7.8   8.0   8.1   \n",
      "\n",
      "   ...   2000  2001  2002  2003  2004  2005  2006  2007  2008  2009  \n",
      "0  ...    0.2   0.3   0.3   0.3   0.3   0.3   0.3   0.3   0.3   0.4  \n",
      "1  ...    8.0   8.2   8.3   8.5   8.6   8.8   8.9   9.1   9.2   9.4  \n",
      "2  ...    3.0   3.1   3.2   3.4   3.5   3.6   3.8   3.9   4.0   4.2  \n",
      "3  ...    1.9   2.0   2.1   2.2   2.3   2.4   2.5   2.6   2.7   2.8  \n",
      "4  ...   11.2  11.4  11.5  11.6  11.7  11.8  11.9  12.0  12.1  12.2  \n",
      "\n",
      "[5 rows x 41 columns]\n",
      "\n",
      "Indicator: GNI\n",
      "  GNI per capita, PPP (current international $)  1961  1962  1963  1964  1965  \\\n",
      "0                                   Afghanistan   NaN   NaN   NaN   NaN   NaN   \n",
      "1                         Akrotiri and Dhekelia   NaN   NaN   NaN   NaN   NaN   \n",
      "2                                       Albania   NaN   NaN   NaN   NaN   NaN   \n",
      "3                                       Algeria   NaN   NaN   NaN   NaN   NaN   \n",
      "4                                American Samoa   NaN   NaN   NaN   NaN   NaN   \n",
      "\n",
      "   1966  1967  1968  1969   ...      2002    2003    2004    2005    2006  \\\n",
      "0   NaN   NaN   NaN   NaN   ...     490.0   590.0   650.0   750.0   890.0   \n",
      "1   NaN   NaN   NaN   NaN   ...       NaN     NaN     NaN     NaN     NaN   \n",
      "2   NaN   NaN   NaN   NaN   ...    4980.0  5350.0  5770.0  6220.0  7000.0   \n",
      "3   NaN   NaN   NaN   NaN   ...    5620.0  6040.0  6420.0  6810.0  7150.0   \n",
      "4   NaN   NaN   NaN   NaN   ...       NaN     NaN     NaN     NaN     NaN   \n",
      "\n",
      "     2007    2008    2009    2010    2011  \n",
      "0   970.0   860.0  1000.0  1060.0     NaN  \n",
      "1     NaN     NaN     NaN     NaN     NaN  \n",
      "2  7390.0  8280.0  8560.0  8570.0  8900.0  \n",
      "3  7660.0  7940.0  8240.0  8060.0  8370.0  \n",
      "4     NaN     NaN     NaN     NaN     NaN  \n",
      "\n",
      "[5 rows x 52 columns]\n"
     ]
    }
   ],
   "source": [
    "def print_head(filename):\n",
    "    \"\"\"\n",
    "    Print head of dataframe from filename.\n",
    "    \"\"\"\n",
    "    indicator = filename.split('.')[1].split('/')[1]\n",
    "    print('\\nIndicator: {}'.format(indicator))\n",
    "    df = pd.read_csv(filename)\n",
    "    return (indicator,df)\n",
    "\n",
    "data_files = ['./HDI.csv',  ## Human Development Index\n",
    "              './LEI.csv',  ## Life Expectancy at birth\n",
    "              './MEI.csv',  ## Mean Years in School (Men)\n",
    "              './WEI.csv',  ## Mean Years in School (Women)\n",
    "              './GNI.csv']  ## Gross National Income\n",
    "\n",
    "example_indicators = {}\n",
    "for data_file in data_files:\n",
    "    indicator, df = print_head(data_file)\n",
    "    example_indicators[indicator] = df\n",
    "    print(df.head())"
   ]
  },
  {
   "cell_type": "markdown",
   "metadata": {},
   "source": [
    "Initial exploration of the data revealed that most of the countries in the datasets had data, although the years for which that data was available varied quite a bit.\n",
    "\n",
    "We use data from the year 2009 because that is the latest given in the \"Mean years in school\" datasets.  It is also one of the most populated among the datasets, providing more data to work with.  We also print out the number of countries in each dataset for informational purposes because we will want a common set of countries for all data."
   ]
  },
  {
   "cell_type": "code",
   "execution_count": 30,
   "metadata": {
    "scrolled": false
   },
   "outputs": [],
   "source": [
    "def indicator_data_file(indicator_file):\n",
    "    \n",
    "    df = pd.read_csv(indicator_file)\n",
    "    return df.filter(regex='HDI|Row Labels|Life expectancy|GNI per capita|2009').dropna()  ## Use row labels\n",
    "\n",
    "data = {}\n",
    "data['HDI'] = indicator_data_file('./HDI.csv')\n",
    "data['HDI'].columns = ['Country', 'HDI']\n",
    "data['LEI'] = indicator_data_file('./LEI.csv')\n",
    "data['LEI'].columns = ['Country', 'LEI']\n",
    "data['MEI'] = indicator_data_file('./MEI.csv')\n",
    "data['MEI'].columns = ['Country', 'MEI']\n",
    "data['WEI'] = indicator_data_file('./WEI.csv')\n",
    "data['WEI'].columns = ['Country', 'WEI']\n",
    "data['GNI'] = indicator_data_file('./GNI.csv')\n",
    "data['GNI'].columns = ['Country', 'GNI']\n",
    "\n",
    "df1 = pd.merge(data['HDI'],data['LEI'],on='Country')\n",
    "df2 = pd.merge(df1,data['MEI'],on='Country')\n",
    "df3 = pd.merge(df2,data['WEI'],on='Country')\n",
    "df4 = pd.merge(df3,data['GNI'],on='Country')\n",
    "df4.to_csv(\"indicators.csv\")"
   ]
  },
  {
   "cell_type": "markdown",
   "metadata": {},
   "source": [
    "At this point, we write the data from the indicator datasets to a single file `indicators.csv` with the indicators as fields."
   ]
  },
  {
   "cell_type": "code",
   "execution_count": null,
   "metadata": {},
   "outputs": [],
   "source": []
  },
  {
   "cell_type": "markdown",
   "metadata": {},
   "source": [
    "> **Tip**: You should _not_ perform too many operations in each cell. Create cells freely to explore your data. One option that you can take with this project is to do a lot of explorations in an initial notebook. These don't have to be organized, but make sure you use enough comments to understand the purpose of each code cell. Then, after you're done with your analysis, create a duplicate notebook where you will trim the excess and organize your steps so that you have a flowing, cohesive report.\n",
    "\n",
    "> **Tip**: Make sure that you keep your reader informed on the steps that you are taking in your investigation. Follow every code cell, or every set of related code cells, with a markdown cell to describe to the reader what was found in the preceding cell(s). Try to make it so that the reader can then understand what they will be seeing in the following cell(s).\n",
    "\n",
    "### Data Cleaning (Replace this with more specific notes!)"
   ]
  },
  {
   "cell_type": "code",
   "execution_count": null,
   "metadata": {
    "collapsed": true
   },
   "outputs": [],
   "source": [
    "# After discussing the structure of the data and any problems that need to be\n",
    "#   cleaned, perform those cleaning steps in the second part of this section.\n"
   ]
  },
  {
   "cell_type": "markdown",
   "metadata": {},
   "source": [
    "<a id='eda'></a>\n",
    "## Exploratory Data Analysis\n",
    "\n",
    "> **Tip**: Now that you've trimmed and cleaned your data, you're ready to move on to exploration. Compute statistics and create visualizations with the goal of addressing the research questions that you posed in the Introduction section. It is recommended that you be systematic with your approach. Look at one variable at a time, and then follow it up by looking at relationships between variables.\n",
    "\n",
    "### Research Question 1 (Replace this header name!)"
   ]
  },
  {
   "cell_type": "code",
   "execution_count": null,
   "metadata": {
    "collapsed": true
   },
   "outputs": [],
   "source": [
    "# Use this, and more code cells, to explore your data. Don't forget to add\n",
    "#   Markdown cells to document your observations and findings.\n"
   ]
  },
  {
   "cell_type": "code",
   "execution_count": null,
   "metadata": {},
   "outputs": [],
   "source": []
  },
  {
   "cell_type": "markdown",
   "metadata": {},
   "source": [
    "### Research Question 2  (Replace this header name!)"
   ]
  },
  {
   "cell_type": "code",
   "execution_count": null,
   "metadata": {
    "collapsed": true
   },
   "outputs": [],
   "source": [
    "# Continue to explore the data to address your additional research\n",
    "#   questions. Add more headers as needed if you have more questions to\n",
    "#   investigate.\n"
   ]
  },
  {
   "cell_type": "markdown",
   "metadata": {},
   "source": [
    "<a id='conclusions'></a>\n",
    "## Conclusions\n",
    "\n",
    "> **Tip**: Finally, summarize your findings and the results that have been performed. Make sure that you are clear with regards to the limitations of your exploration. If you haven't done any statistical tests, do not imply any statistical conclusions. And make sure you avoid implying causation from correlation!\n",
    "\n",
    "> **Tip**: Once you are satisfied with your work, you should save a copy of the report in HTML or PDF form via the **File** > **Download as** submenu. Before exporting your report, check over it to make sure that the flow of the report is complete. You should probably remove all of the \"Tip\" quotes like this one so that the presentation is as tidy as possible. Congratulations!"
   ]
  },
  {
   "cell_type": "code",
   "execution_count": null,
   "metadata": {
    "collapsed": true
   },
   "outputs": [],
   "source": []
  }
 ],
 "metadata": {
  "kernelspec": {
   "display_name": "Python 3",
   "language": "python",
   "name": "python3"
  },
  "language_info": {
   "codemirror_mode": {
    "name": "ipython",
    "version": 3
   },
   "file_extension": ".py",
   "mimetype": "text/x-python",
   "name": "python",
   "nbconvert_exporter": "python",
   "pygments_lexer": "ipython3",
   "version": "3.6.3"
  }
 },
 "nbformat": 4,
 "nbformat_minor": 2
}
