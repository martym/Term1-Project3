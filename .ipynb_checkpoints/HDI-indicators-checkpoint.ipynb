{
 "cells": [
  {
   "cell_type": "markdown",
   "metadata": {},
   "source": [
    "# Project:  Human Development Index (HDI) Indicators from Gapminder\n",
    "\n",
    "## Table of Contents\n",
    "<ul>\n",
    "<li><a href=\"#intro\">Introduction</a></li>\n",
    "<li><a href=\"#wrangling\">Data Wrangling</a></li>\n",
    "<li><a href=\"#eda\">Exploratory Data Analysis</a></li>\n",
    "<li><a href=\"#conclusions\">Conclusions</a></li>\n",
    "</ul>"
   ]
  },
  {
   "cell_type": "markdown",
   "metadata": {},
   "source": [
    "<a id='intro'></a>\n",
    "## Introduction\n",
    "\n",
    "The [Human Development Index](https://en.wikipedia.org/wiki/Human_Development_Index) (HDI) represents the standard-of-living in a country based on three indicators:\n",
    "    - Life expectancy at birth (LEI),\n",
    "    - Gross national income per capita (GNI),\n",
    "    - Mean years of education (MEI & WEI for men and women).\n",
    "\n",
    "The Gapminder database provides datasets for each of these indicators; however, the education level is given by two datasets based on gender rather than a single composite indicator as used in the calculation of the HDI.  The HDI ranges between 0.0 and 1.0.  The higher these indicators, the higher the HDI.  Accordingly, exploratory data analysis should reveal fairly strong correlations among them.  It would be interesting to see the relative strengths and nature of these indicators with respect to the HDI."
   ]
  },
  {
   "cell_type": "code",
   "execution_count": 1,
   "metadata": {},
   "outputs": [],
   "source": [
    "import pandas as pd\n",
    "import csv\n",
    "from pprint import pprint\n",
    "import matplotlib.pyplot as plt\n",
    "import numpy as np\n",
    "%matplotlib inline"
   ]
  },
  {
   "cell_type": "markdown",
   "metadata": {},
   "source": [
    "<a id='wrangling'></a>\n",
    "## Data Wrangling\n",
    "\n",
    "### General Properties\n",
    "\n",
    "The datasets from Gapminder are\n",
    "    - HDI:  Human Development Index\n",
    "    - GNI:  Total GNI (PPP, current international $)\n",
    "    - MEI:  Mean years in school (men 25 years and older)\n",
    "    - WEI:  Mean years in school (women 25 years and older)\n",
    "    - LEI:  Life expectancy at birth\n",
    "converted from excel to csv format.\n",
    "\n",
    "Rows for each dataset are a list of countries, and columns are years.  Which countries and years are included varied among the datasets, so an immediate task is to standardize these metrics for analysis.\n",
    "\n"
   ]
  },
  {
   "cell_type": "code",
   "execution_count": 24,
   "metadata": {},
   "outputs": [
    {
     "name": "stdout",
     "output_type": "stream",
     "text": [
      "\n",
      "Indicator: HDI; Count: 265\n",
      "                     HDI   1980   1990   2000   2005   2006   2007   2008  \\\n",
      "0            Afghanistan  0.198  0.246  0.230  0.340  0.354  0.363  0.370   \n",
      "1  Akrotiri and Dhekelia    NaN    NaN    NaN    NaN    NaN    NaN    NaN   \n",
      "2                Albania    NaN  0.656  0.691  0.721  0.724  0.729  0.733   \n",
      "3                Algeria  0.454  0.551  0.624  0.667  0.673  0.680  0.686   \n",
      "4         American Samoa    NaN    NaN    NaN    NaN    NaN    NaN    NaN   \n",
      "\n",
      "    2009   2011  \n",
      "0  0.387  0.398  \n",
      "1    NaN    NaN  \n",
      "2  0.734  0.739  \n",
      "3  0.691  0.698  \n",
      "4    NaN    NaN  \n",
      "\n",
      "Indicator: LEI; Count: 242\n",
      "  Life expectancy with projections  1765  1766  1767  1768  1769  1770  1771  \\\n",
      "0                      Afghanistan   NaN   NaN   NaN   NaN   NaN   NaN   NaN   \n",
      "1                          Albania   NaN   NaN   NaN   NaN   NaN   NaN   NaN   \n",
      "2                          Algeria   NaN   NaN   NaN   NaN   NaN   NaN   NaN   \n",
      "3                   American Samoa   NaN   NaN   NaN   NaN   NaN   NaN   NaN   \n",
      "4                          Andorra   NaN   NaN   NaN   NaN   NaN   NaN   NaN   \n",
      "\n",
      "   1772  1773   ...      2009    2010    2011    2012    2013    2014    2015  \\\n",
      "0   NaN   NaN   ...    59.124  59.612  60.079  60.524  60.947  61.347  61.726   \n",
      "1   NaN   NaN   ...    76.598  76.780  76.979  77.185  77.392  77.600  77.807   \n",
      "2   NaN   NaN   ...    70.477  70.615  70.747  70.874  71.000  71.123  71.246   \n",
      "3   NaN   NaN   ...       NaN     NaN     NaN     NaN     NaN     NaN     NaN   \n",
      "4   NaN   NaN   ...       NaN     NaN     NaN     NaN     NaN     NaN     NaN   \n",
      "\n",
      "     2025    2050    2099  \n",
      "0  64.758  69.467  75.492  \n",
      "1  79.832  83.543  89.070  \n",
      "2  72.380  74.897  80.569  \n",
      "3     NaN     NaN     NaN  \n",
      "4     NaN     NaN     NaN  \n",
      "\n",
      "[5 rows x 255 columns]\n",
      "\n",
      "Indicator: MEI; Count: 175\n",
      "            Row Labels  1970  1971  1972  1973  1974  1975  1976  1977  1978  \\\n",
      "0          Afghanistan   0.7   0.7   0.8   0.8   0.8   0.9   0.9   0.9   1.0   \n",
      "1              Albania   5.1   5.2   5.3   5.5   5.6   5.7   5.9   6.0   6.1   \n",
      "2              Algeria   0.9   0.9   1.0   1.1   1.1   1.2   1.2   1.3   1.4   \n",
      "3               Angola   1.4   1.5   1.5   1.6   1.7   1.7   1.8   1.9   2.0   \n",
      "4  Antigua and Barbuda   7.0   7.1   7.2   7.4   7.5   7.6   7.8   7.9   8.1   \n",
      "\n",
      "   ...   2000  2001  2002  2003  2004  2005  2006  2007  2008  2009  \n",
      "0  ...    2.1   2.1   2.2   2.3   2.3   2.4   2.4   2.5   2.6   2.6  \n",
      "1  ...    9.1   9.2   9.4   9.5   9.6   9.8   9.9  10.0  10.1  10.2  \n",
      "2  ...    3.7   3.8   3.9   4.0   4.1   4.3   4.4   4.5   4.6   4.7  \n",
      "3  ...    4.0   4.1   4.3   4.4   4.5   4.6   4.7   4.9   5.0   5.1  \n",
      "4  ...   11.0  11.1  11.2  11.3  11.4  11.5  11.5  11.6  11.7  11.8  \n",
      "\n",
      "[5 rows x 41 columns]\n",
      "\n",
      "Indicator: WEI; Count: 175\n",
      "            Row Labels  1970  1971  1972  1973  1974  1975  1976  1977  1978  \\\n",
      "0          Afghanistan   0.0   0.1   0.1   0.1   0.1   0.1   0.1   0.1   0.1   \n",
      "1              Albania   3.9   4.0   4.1   4.2   4.3   4.5   4.6   4.7   4.8   \n",
      "2              Algeria   0.6   0.6   0.6   0.7   0.7   0.8   0.8   0.9   0.9   \n",
      "3               Angola   0.5   0.5   0.5   0.5   0.6   0.6   0.6   0.7   0.7   \n",
      "4  Antigua and Barbuda   7.0   7.1   7.2   7.4   7.5   7.7   7.8   8.0   8.1   \n",
      "\n",
      "   ...   2000  2001  2002  2003  2004  2005  2006  2007  2008  2009  \n",
      "0  ...    0.2   0.3   0.3   0.3   0.3   0.3   0.3   0.3   0.3   0.4  \n",
      "1  ...    8.0   8.2   8.3   8.5   8.6   8.8   8.9   9.1   9.2   9.4  \n",
      "2  ...    3.0   3.1   3.2   3.4   3.5   3.6   3.8   3.9   4.0   4.2  \n",
      "3  ...    1.9   2.0   2.1   2.2   2.3   2.4   2.5   2.6   2.7   2.8  \n",
      "4  ...   11.2  11.4  11.5  11.6  11.7  11.8  11.9  12.0  12.1  12.2  \n",
      "\n",
      "[5 rows x 41 columns]\n",
      "\n",
      "Indicator: GNI; Count: 267\n",
      "  GNI per capita, PPP (current international $)  1961  1962  1963  1964  1965  \\\n",
      "0                                   Afghanistan   NaN   NaN   NaN   NaN   NaN   \n",
      "1                         Akrotiri and Dhekelia   NaN   NaN   NaN   NaN   NaN   \n",
      "2                                       Albania   NaN   NaN   NaN   NaN   NaN   \n",
      "3                                       Algeria   NaN   NaN   NaN   NaN   NaN   \n",
      "4                                American Samoa   NaN   NaN   NaN   NaN   NaN   \n",
      "\n",
      "   1966  1967  1968  1969   ...      2002    2003    2004    2005    2006  \\\n",
      "0   NaN   NaN   NaN   NaN   ...     490.0   590.0   650.0   750.0   890.0   \n",
      "1   NaN   NaN   NaN   NaN   ...       NaN     NaN     NaN     NaN     NaN   \n",
      "2   NaN   NaN   NaN   NaN   ...    4980.0  5350.0  5770.0  6220.0  7000.0   \n",
      "3   NaN   NaN   NaN   NaN   ...    5620.0  6040.0  6420.0  6810.0  7150.0   \n",
      "4   NaN   NaN   NaN   NaN   ...       NaN     NaN     NaN     NaN     NaN   \n",
      "\n",
      "     2007    2008    2009    2010    2011  \n",
      "0   970.0   860.0  1000.0  1060.0     NaN  \n",
      "1     NaN     NaN     NaN     NaN     NaN  \n",
      "2  7390.0  8280.0  8560.0  8570.0  8900.0  \n",
      "3  7660.0  7940.0  8240.0  8060.0  8370.0  \n",
      "4     NaN     NaN     NaN     NaN     NaN  \n",
      "\n",
      "[5 rows x 52 columns]\n"
     ]
    }
   ],
   "source": [
    "def print_head(filename):\n",
    "    \"\"\"\n",
    "    Print head of dataframe from filename.\n",
    "    \"\"\"\n",
    "    indicator = filename.split('.')[1].split('/')[1]\n",
    "    df = pd.read_csv(filename)\n",
    "    print('\\nIndicator: {}; Count: {}'.format(indicator,len(df.index)))\n",
    "    return (indicator,df)\n",
    "\n",
    "data_files = ['./HDI.csv',  ## Human Development Index\n",
    "              './LEI.csv',  ## Life Expectancy at birth\n",
    "              './MEI.csv',  ## Mean Years in School (Men)\n",
    "              './WEI.csv',  ## Mean Years in School (Women)\n",
    "              './GNI.csv']  ## Gross National Income\n",
    "\n",
    "example_indicators = {}\n",
    "for data_file in data_files:\n",
    "    indicator, df = print_head(data_file)\n",
    "    example_indicators[indicator] = df\n",
    "    print(df.head())"
   ]
  },
  {
   "cell_type": "markdown",
   "metadata": {},
   "source": [
    "### Data Standardization and Cleaning\n",
    "\n",
    "Standardization of the metrics involved identifying missing values (mostly for non-countries such as Akrotiri and Dhekelia and American Samoa), as well as a the most recent year for which data was available.  Initial exploration of the datasets did not suggest that problem data such as outliers needed to be addressed.  The data was used as given.\n",
    "\n",
    "We use data from the year 2009 because that is the latest given in the \"Mean years in school\" datasets.  It is also one of the most populated among the datasets, providing more data to work with.\n",
    "\n",
    "In the following cells, we can get the relevant data for all the shared countries among the HDI, Life expectancy, Mean Years in School, and GNI indicators, by filtering those columns from the dataframes.  Then we can merge the data on the common countries (155 in all) by renaming the columns according to the country and indicator.  The filtering cleans up the dataset (the values of which are ostensibly correct) by dropping missing values."
   ]
  },
  {
   "cell_type": "code",
   "execution_count": 13,
   "metadata": {
    "scrolled": false
   },
   "outputs": [
    {
     "data": {
      "text/html": [
       "<div>\n",
       "<style scoped>\n",
       "    .dataframe tbody tr th:only-of-type {\n",
       "        vertical-align: middle;\n",
       "    }\n",
       "\n",
       "    .dataframe tbody tr th {\n",
       "        vertical-align: top;\n",
       "    }\n",
       "\n",
       "    .dataframe thead th {\n",
       "        text-align: right;\n",
       "    }\n",
       "</style>\n",
       "<table border=\"1\" class=\"dataframe\">\n",
       "  <thead>\n",
       "    <tr style=\"text-align: right;\">\n",
       "      <th></th>\n",
       "      <th>Country</th>\n",
       "      <th>HDI</th>\n",
       "      <th>LEI</th>\n",
       "      <th>MEI</th>\n",
       "      <th>WEI</th>\n",
       "      <th>GNI</th>\n",
       "    </tr>\n",
       "  </thead>\n",
       "  <tbody>\n",
       "    <tr>\n",
       "      <th>0</th>\n",
       "      <td>Afghanistan</td>\n",
       "      <td>0.387</td>\n",
       "      <td>59.124</td>\n",
       "      <td>2.6</td>\n",
       "      <td>0.4</td>\n",
       "      <td>1000.0</td>\n",
       "    </tr>\n",
       "    <tr>\n",
       "      <th>1</th>\n",
       "      <td>Albania</td>\n",
       "      <td>0.734</td>\n",
       "      <td>76.598</td>\n",
       "      <td>10.2</td>\n",
       "      <td>9.4</td>\n",
       "      <td>8560.0</td>\n",
       "    </tr>\n",
       "    <tr>\n",
       "      <th>2</th>\n",
       "      <td>Algeria</td>\n",
       "      <td>0.691</td>\n",
       "      <td>70.477</td>\n",
       "      <td>4.7</td>\n",
       "      <td>4.2</td>\n",
       "      <td>8240.0</td>\n",
       "    </tr>\n",
       "    <tr>\n",
       "      <th>3</th>\n",
       "      <td>Angola</td>\n",
       "      <td>0.481</td>\n",
       "      <td>50.286</td>\n",
       "      <td>5.1</td>\n",
       "      <td>2.8</td>\n",
       "      <td>5130.0</td>\n",
       "    </tr>\n",
       "    <tr>\n",
       "      <th>4</th>\n",
       "      <td>Argentina</td>\n",
       "      <td>0.788</td>\n",
       "      <td>75.592</td>\n",
       "      <td>9.8</td>\n",
       "      <td>10.1</td>\n",
       "      <td>14110.0</td>\n",
       "    </tr>\n",
       "    <tr>\n",
       "      <th>5</th>\n",
       "      <td>Armenia</td>\n",
       "      <td>0.712</td>\n",
       "      <td>74.191</td>\n",
       "      <td>11.3</td>\n",
       "      <td>11.3</td>\n",
       "      <td>5380.0</td>\n",
       "    </tr>\n",
       "    <tr>\n",
       "      <th>6</th>\n",
       "      <td>Australia</td>\n",
       "      <td>0.926</td>\n",
       "      <td>81.937</td>\n",
       "      <td>11.9</td>\n",
       "      <td>11.5</td>\n",
       "      <td>37970.0</td>\n",
       "    </tr>\n",
       "    <tr>\n",
       "      <th>7</th>\n",
       "      <td>Austria</td>\n",
       "      <td>0.879</td>\n",
       "      <td>80.392</td>\n",
       "      <td>11.8</td>\n",
       "      <td>11.0</td>\n",
       "      <td>38570.0</td>\n",
       "    </tr>\n",
       "    <tr>\n",
       "      <th>8</th>\n",
       "      <td>Bahamas</td>\n",
       "      <td>0.769</td>\n",
       "      <td>74.587</td>\n",
       "      <td>10.5</td>\n",
       "      <td>10.8</td>\n",
       "      <td>30990.0</td>\n",
       "    </tr>\n",
       "    <tr>\n",
       "      <th>9</th>\n",
       "      <td>Bahrain</td>\n",
       "      <td>0.805</td>\n",
       "      <td>76.062</td>\n",
       "      <td>9.1</td>\n",
       "      <td>7.8</td>\n",
       "      <td>21180.0</td>\n",
       "    </tr>\n",
       "    <tr>\n",
       "      <th>10</th>\n",
       "      <td>Bangladesh</td>\n",
       "      <td>0.491</td>\n",
       "      <td>69.046</td>\n",
       "      <td>4.7</td>\n",
       "      <td>2.6</td>\n",
       "      <td>1700.0</td>\n",
       "    </tr>\n",
       "    <tr>\n",
       "      <th>11</th>\n",
       "      <td>Belarus</td>\n",
       "      <td>0.746</td>\n",
       "      <td>69.468</td>\n",
       "      <td>11.8</td>\n",
       "      <td>11.7</td>\n",
       "      <td>12430.0</td>\n",
       "    </tr>\n",
       "    <tr>\n",
       "      <th>12</th>\n",
       "      <td>Belgium</td>\n",
       "      <td>0.883</td>\n",
       "      <td>79.807</td>\n",
       "      <td>12.1</td>\n",
       "      <td>11.9</td>\n",
       "      <td>36490.0</td>\n",
       "    </tr>\n",
       "    <tr>\n",
       "      <th>13</th>\n",
       "      <td>Belize</td>\n",
       "      <td>0.696</td>\n",
       "      <td>73.011</td>\n",
       "      <td>8.5</td>\n",
       "      <td>8.3</td>\n",
       "      <td>6070.0</td>\n",
       "    </tr>\n",
       "    <tr>\n",
       "      <th>14</th>\n",
       "      <td>Benin</td>\n",
       "      <td>0.422</td>\n",
       "      <td>58.560</td>\n",
       "      <td>3.7</td>\n",
       "      <td>1.6</td>\n",
       "      <td>1570.0</td>\n",
       "    </tr>\n",
       "    <tr>\n",
       "      <th>15</th>\n",
       "      <td>Bolivia</td>\n",
       "      <td>0.656</td>\n",
       "      <td>66.048</td>\n",
       "      <td>8.4</td>\n",
       "      <td>6.7</td>\n",
       "      <td>4480.0</td>\n",
       "    </tr>\n",
       "    <tr>\n",
       "      <th>16</th>\n",
       "      <td>Bosnia and Herzegovina</td>\n",
       "      <td>0.730</td>\n",
       "      <td>75.750</td>\n",
       "      <td>9.4</td>\n",
       "      <td>7.5</td>\n",
       "      <td>8900.0</td>\n",
       "    </tr>\n",
       "    <tr>\n",
       "      <th>17</th>\n",
       "      <td>Botswana</td>\n",
       "      <td>0.626</td>\n",
       "      <td>46.441</td>\n",
       "      <td>5.3</td>\n",
       "      <td>6.0</td>\n",
       "      <td>12900.0</td>\n",
       "    </tr>\n",
       "    <tr>\n",
       "      <th>18</th>\n",
       "      <td>Brazil</td>\n",
       "      <td>0.708</td>\n",
       "      <td>72.846</td>\n",
       "      <td>6.8</td>\n",
       "      <td>7.2</td>\n",
       "      <td>10180.0</td>\n",
       "    </tr>\n",
       "    <tr>\n",
       "      <th>19</th>\n",
       "      <td>Bulgaria</td>\n",
       "      <td>0.766</td>\n",
       "      <td>73.132</td>\n",
       "      <td>11.8</td>\n",
       "      <td>12.0</td>\n",
       "      <td>13250.0</td>\n",
       "    </tr>\n",
       "    <tr>\n",
       "      <th>20</th>\n",
       "      <td>Burkina Faso</td>\n",
       "      <td>0.326</td>\n",
       "      <td>54.634</td>\n",
       "      <td>1.7</td>\n",
       "      <td>0.8</td>\n",
       "      <td>1190.0</td>\n",
       "    </tr>\n",
       "    <tr>\n",
       "      <th>21</th>\n",
       "      <td>Burundi</td>\n",
       "      <td>0.308</td>\n",
       "      <td>52.112</td>\n",
       "      <td>3.5</td>\n",
       "      <td>2.0</td>\n",
       "      <td>570.0</td>\n",
       "    </tr>\n",
       "    <tr>\n",
       "      <th>22</th>\n",
       "      <td>Cambodia</td>\n",
       "      <td>0.513</td>\n",
       "      <td>70.315</td>\n",
       "      <td>5.4</td>\n",
       "      <td>3.2</td>\n",
       "      <td>1970.0</td>\n",
       "    </tr>\n",
       "    <tr>\n",
       "      <th>23</th>\n",
       "      <td>Cameroon</td>\n",
       "      <td>0.475</td>\n",
       "      <td>53.288</td>\n",
       "      <td>6.6</td>\n",
       "      <td>4.2</td>\n",
       "      <td>2220.0</td>\n",
       "    </tr>\n",
       "    <tr>\n",
       "      <th>24</th>\n",
       "      <td>Canada</td>\n",
       "      <td>0.903</td>\n",
       "      <td>80.814</td>\n",
       "      <td>14.2</td>\n",
       "      <td>14.2</td>\n",
       "      <td>37260.0</td>\n",
       "    </tr>\n",
       "    <tr>\n",
       "      <th>25</th>\n",
       "      <td>Cape Verde</td>\n",
       "      <td>0.564</td>\n",
       "      <td>73.733</td>\n",
       "      <td>5.0</td>\n",
       "      <td>3.5</td>\n",
       "      <td>3560.0</td>\n",
       "    </tr>\n",
       "    <tr>\n",
       "      <th>26</th>\n",
       "      <td>Chad</td>\n",
       "      <td>0.323</td>\n",
       "      <td>49.332</td>\n",
       "      <td>2.7</td>\n",
       "      <td>0.7</td>\n",
       "      <td>1260.0</td>\n",
       "    </tr>\n",
       "    <tr>\n",
       "      <th>27</th>\n",
       "      <td>Chile</td>\n",
       "      <td>0.798</td>\n",
       "      <td>78.936</td>\n",
       "      <td>10.2</td>\n",
       "      <td>10.1</td>\n",
       "      <td>14200.0</td>\n",
       "    </tr>\n",
       "    <tr>\n",
       "      <th>28</th>\n",
       "      <td>China</td>\n",
       "      <td>0.674</td>\n",
       "      <td>74.718</td>\n",
       "      <td>7.7</td>\n",
       "      <td>6.4</td>\n",
       "      <td>6820.0</td>\n",
       "    </tr>\n",
       "    <tr>\n",
       "      <th>29</th>\n",
       "      <td>Colombia</td>\n",
       "      <td>0.702</td>\n",
       "      <td>73.213</td>\n",
       "      <td>6.6</td>\n",
       "      <td>6.4</td>\n",
       "      <td>8710.0</td>\n",
       "    </tr>\n",
       "    <tr>\n",
       "      <th>...</th>\n",
       "      <td>...</td>\n",
       "      <td>...</td>\n",
       "      <td>...</td>\n",
       "      <td>...</td>\n",
       "      <td>...</td>\n",
       "      <td>...</td>\n",
       "    </tr>\n",
       "    <tr>\n",
       "      <th>125</th>\n",
       "      <td>Solomon Islands</td>\n",
       "      <td>0.504</td>\n",
       "      <td>66.787</td>\n",
       "      <td>6.2</td>\n",
       "      <td>5.0</td>\n",
       "      <td>2010.0</td>\n",
       "    </tr>\n",
       "    <tr>\n",
       "      <th>126</th>\n",
       "      <td>South Africa</td>\n",
       "      <td>0.610</td>\n",
       "      <td>53.615</td>\n",
       "      <td>8.5</td>\n",
       "      <td>8.5</td>\n",
       "      <td>10040.0</td>\n",
       "    </tr>\n",
       "    <tr>\n",
       "      <th>127</th>\n",
       "      <td>Spain</td>\n",
       "      <td>0.874</td>\n",
       "      <td>81.474</td>\n",
       "      <td>9.0</td>\n",
       "      <td>9.0</td>\n",
       "      <td>31450.0</td>\n",
       "    </tr>\n",
       "    <tr>\n",
       "      <th>128</th>\n",
       "      <td>Sri Lanka</td>\n",
       "      <td>0.680</td>\n",
       "      <td>73.686</td>\n",
       "      <td>9.2</td>\n",
       "      <td>9.4</td>\n",
       "      <td>4670.0</td>\n",
       "    </tr>\n",
       "    <tr>\n",
       "      <th>129</th>\n",
       "      <td>Sudan</td>\n",
       "      <td>0.403</td>\n",
       "      <td>61.258</td>\n",
       "      <td>5.6</td>\n",
       "      <td>3.1</td>\n",
       "      <td>2000.0</td>\n",
       "    </tr>\n",
       "    <tr>\n",
       "      <th>130</th>\n",
       "      <td>Suriname</td>\n",
       "      <td>0.674</td>\n",
       "      <td>70.036</td>\n",
       "      <td>7.7</td>\n",
       "      <td>7.1</td>\n",
       "      <td>7570.0</td>\n",
       "    </tr>\n",
       "    <tr>\n",
       "      <th>131</th>\n",
       "      <td>Swaziland</td>\n",
       "      <td>0.515</td>\n",
       "      <td>47.940</td>\n",
       "      <td>7.3</td>\n",
       "      <td>7.3</td>\n",
       "      <td>5570.0</td>\n",
       "    </tr>\n",
       "    <tr>\n",
       "      <th>132</th>\n",
       "      <td>Sweden</td>\n",
       "      <td>0.898</td>\n",
       "      <td>81.282</td>\n",
       "      <td>12.4</td>\n",
       "      <td>12.8</td>\n",
       "      <td>38040.0</td>\n",
       "    </tr>\n",
       "    <tr>\n",
       "      <th>133</th>\n",
       "      <td>Switzerland</td>\n",
       "      <td>0.899</td>\n",
       "      <td>82.032</td>\n",
       "      <td>13.5</td>\n",
       "      <td>12.6</td>\n",
       "      <td>46740.0</td>\n",
       "    </tr>\n",
       "    <tr>\n",
       "      <th>134</th>\n",
       "      <td>Syria</td>\n",
       "      <td>0.630</td>\n",
       "      <td>74.795</td>\n",
       "      <td>7.4</td>\n",
       "      <td>5.1</td>\n",
       "      <td>5040.0</td>\n",
       "    </tr>\n",
       "    <tr>\n",
       "      <th>135</th>\n",
       "      <td>Tajikistan</td>\n",
       "      <td>0.600</td>\n",
       "      <td>66.642</td>\n",
       "      <td>11.6</td>\n",
       "      <td>10.4</td>\n",
       "      <td>2000.0</td>\n",
       "    </tr>\n",
       "    <tr>\n",
       "      <th>136</th>\n",
       "      <td>Tanzania</td>\n",
       "      <td>0.454</td>\n",
       "      <td>58.220</td>\n",
       "      <td>5.7</td>\n",
       "      <td>4.0</td>\n",
       "      <td>1350.0</td>\n",
       "    </tr>\n",
       "    <tr>\n",
       "      <th>137</th>\n",
       "      <td>Thailand</td>\n",
       "      <td>0.673</td>\n",
       "      <td>73.627</td>\n",
       "      <td>7.1</td>\n",
       "      <td>6.6</td>\n",
       "      <td>7550.0</td>\n",
       "    </tr>\n",
       "    <tr>\n",
       "      <th>138</th>\n",
       "      <td>Timor-Leste</td>\n",
       "      <td>0.487</td>\n",
       "      <td>65.393</td>\n",
       "      <td>3.1</td>\n",
       "      <td>2.0</td>\n",
       "      <td>4410.0</td>\n",
       "    </tr>\n",
       "    <tr>\n",
       "      <th>139</th>\n",
       "      <td>Togo</td>\n",
       "      <td>0.429</td>\n",
       "      <td>55.189</td>\n",
       "      <td>5.2</td>\n",
       "      <td>2.3</td>\n",
       "      <td>960.0</td>\n",
       "    </tr>\n",
       "    <tr>\n",
       "      <th>140</th>\n",
       "      <td>Tonga</td>\n",
       "      <td>0.701</td>\n",
       "      <td>72.061</td>\n",
       "      <td>11.3</td>\n",
       "      <td>11.5</td>\n",
       "      <td>4590.0</td>\n",
       "    </tr>\n",
       "    <tr>\n",
       "      <th>141</th>\n",
       "      <td>Trinidad and Tobago</td>\n",
       "      <td>0.755</td>\n",
       "      <td>69.438</td>\n",
       "      <td>9.6</td>\n",
       "      <td>9.7</td>\n",
       "      <td>24230.0</td>\n",
       "    </tr>\n",
       "    <tr>\n",
       "      <th>142</th>\n",
       "      <td>Tunisia</td>\n",
       "      <td>0.692</td>\n",
       "      <td>74.918</td>\n",
       "      <td>8.1</td>\n",
       "      <td>4.5</td>\n",
       "      <td>8690.0</td>\n",
       "    </tr>\n",
       "    <tr>\n",
       "      <th>143</th>\n",
       "      <td>Turkey</td>\n",
       "      <td>0.690</td>\n",
       "      <td>73.932</td>\n",
       "      <td>8.2</td>\n",
       "      <td>5.8</td>\n",
       "      <td>14260.0</td>\n",
       "    </tr>\n",
       "    <tr>\n",
       "      <th>144</th>\n",
       "      <td>Turkmenistan</td>\n",
       "      <td>0.677</td>\n",
       "      <td>64.862</td>\n",
       "      <td>11.5</td>\n",
       "      <td>10.8</td>\n",
       "      <td>7040.0</td>\n",
       "    </tr>\n",
       "    <tr>\n",
       "      <th>145</th>\n",
       "      <td>Uganda</td>\n",
       "      <td>0.438</td>\n",
       "      <td>56.514</td>\n",
       "      <td>6.1</td>\n",
       "      <td>3.7</td>\n",
       "      <td>1210.0</td>\n",
       "    </tr>\n",
       "    <tr>\n",
       "      <th>146</th>\n",
       "      <td>Ukraine</td>\n",
       "      <td>0.720</td>\n",
       "      <td>68.076</td>\n",
       "      <td>12.1</td>\n",
       "      <td>12.2</td>\n",
       "      <td>6190.0</td>\n",
       "    </tr>\n",
       "    <tr>\n",
       "      <th>147</th>\n",
       "      <td>United Arab Emirates</td>\n",
       "      <td>0.841</td>\n",
       "      <td>76.144</td>\n",
       "      <td>9.5</td>\n",
       "      <td>8.3</td>\n",
       "      <td>50200.0</td>\n",
       "    </tr>\n",
       "    <tr>\n",
       "      <th>148</th>\n",
       "      <td>United Kingdom</td>\n",
       "      <td>0.860</td>\n",
       "      <td>79.913</td>\n",
       "      <td>13.0</td>\n",
       "      <td>13.0</td>\n",
       "      <td>34960.0</td>\n",
       "    </tr>\n",
       "    <tr>\n",
       "      <th>149</th>\n",
       "      <td>United States</td>\n",
       "      <td>0.906</td>\n",
       "      <td>78.352</td>\n",
       "      <td>13.7</td>\n",
       "      <td>13.7</td>\n",
       "      <td>45440.0</td>\n",
       "    </tr>\n",
       "    <tr>\n",
       "      <th>150</th>\n",
       "      <td>Uruguay</td>\n",
       "      <td>0.773</td>\n",
       "      <td>76.628</td>\n",
       "      <td>9.5</td>\n",
       "      <td>10.0</td>\n",
       "      <td>12410.0</td>\n",
       "    </tr>\n",
       "    <tr>\n",
       "      <th>151</th>\n",
       "      <td>Uzbekistan</td>\n",
       "      <td>0.631</td>\n",
       "      <td>67.756</td>\n",
       "      <td>11.9</td>\n",
       "      <td>11.3</td>\n",
       "      <td>2940.0</td>\n",
       "    </tr>\n",
       "    <tr>\n",
       "      <th>152</th>\n",
       "      <td>Venezuela</td>\n",
       "      <td>0.732</td>\n",
       "      <td>73.991</td>\n",
       "      <td>8.6</td>\n",
       "      <td>8.9</td>\n",
       "      <td>12300.0</td>\n",
       "    </tr>\n",
       "    <tr>\n",
       "      <th>153</th>\n",
       "      <td>Vietnam</td>\n",
       "      <td>0.584</td>\n",
       "      <td>75.344</td>\n",
       "      <td>8.1</td>\n",
       "      <td>6.9</td>\n",
       "      <td>2840.0</td>\n",
       "    </tr>\n",
       "    <tr>\n",
       "      <th>154</th>\n",
       "      <td>Zambia</td>\n",
       "      <td>0.419</td>\n",
       "      <td>53.137</td>\n",
       "      <td>7.5</td>\n",
       "      <td>5.2</td>\n",
       "      <td>1300.0</td>\n",
       "    </tr>\n",
       "  </tbody>\n",
       "</table>\n",
       "<p>155 rows × 6 columns</p>\n",
       "</div>"
      ],
      "text/plain": [
       "                    Country    HDI     LEI   MEI   WEI      GNI\n",
       "0               Afghanistan  0.387  59.124   2.6   0.4   1000.0\n",
       "1                   Albania  0.734  76.598  10.2   9.4   8560.0\n",
       "2                   Algeria  0.691  70.477   4.7   4.2   8240.0\n",
       "3                    Angola  0.481  50.286   5.1   2.8   5130.0\n",
       "4                 Argentina  0.788  75.592   9.8  10.1  14110.0\n",
       "5                   Armenia  0.712  74.191  11.3  11.3   5380.0\n",
       "6                 Australia  0.926  81.937  11.9  11.5  37970.0\n",
       "7                   Austria  0.879  80.392  11.8  11.0  38570.0\n",
       "8                   Bahamas  0.769  74.587  10.5  10.8  30990.0\n",
       "9                   Bahrain  0.805  76.062   9.1   7.8  21180.0\n",
       "10               Bangladesh  0.491  69.046   4.7   2.6   1700.0\n",
       "11                  Belarus  0.746  69.468  11.8  11.7  12430.0\n",
       "12                  Belgium  0.883  79.807  12.1  11.9  36490.0\n",
       "13                   Belize  0.696  73.011   8.5   8.3   6070.0\n",
       "14                    Benin  0.422  58.560   3.7   1.6   1570.0\n",
       "15                  Bolivia  0.656  66.048   8.4   6.7   4480.0\n",
       "16   Bosnia and Herzegovina  0.730  75.750   9.4   7.5   8900.0\n",
       "17                 Botswana  0.626  46.441   5.3   6.0  12900.0\n",
       "18                   Brazil  0.708  72.846   6.8   7.2  10180.0\n",
       "19                 Bulgaria  0.766  73.132  11.8  12.0  13250.0\n",
       "20             Burkina Faso  0.326  54.634   1.7   0.8   1190.0\n",
       "21                  Burundi  0.308  52.112   3.5   2.0    570.0\n",
       "22                 Cambodia  0.513  70.315   5.4   3.2   1970.0\n",
       "23                 Cameroon  0.475  53.288   6.6   4.2   2220.0\n",
       "24                   Canada  0.903  80.814  14.2  14.2  37260.0\n",
       "25               Cape Verde  0.564  73.733   5.0   3.5   3560.0\n",
       "26                     Chad  0.323  49.332   2.7   0.7   1260.0\n",
       "27                    Chile  0.798  78.936  10.2  10.1  14200.0\n",
       "28                    China  0.674  74.718   7.7   6.4   6820.0\n",
       "29                 Colombia  0.702  73.213   6.6   6.4   8710.0\n",
       "..                      ...    ...     ...   ...   ...      ...\n",
       "125         Solomon Islands  0.504  66.787   6.2   5.0   2010.0\n",
       "126            South Africa  0.610  53.615   8.5   8.5  10040.0\n",
       "127                   Spain  0.874  81.474   9.0   9.0  31450.0\n",
       "128               Sri Lanka  0.680  73.686   9.2   9.4   4670.0\n",
       "129                   Sudan  0.403  61.258   5.6   3.1   2000.0\n",
       "130                Suriname  0.674  70.036   7.7   7.1   7570.0\n",
       "131               Swaziland  0.515  47.940   7.3   7.3   5570.0\n",
       "132                  Sweden  0.898  81.282  12.4  12.8  38040.0\n",
       "133             Switzerland  0.899  82.032  13.5  12.6  46740.0\n",
       "134                   Syria  0.630  74.795   7.4   5.1   5040.0\n",
       "135              Tajikistan  0.600  66.642  11.6  10.4   2000.0\n",
       "136                Tanzania  0.454  58.220   5.7   4.0   1350.0\n",
       "137                Thailand  0.673  73.627   7.1   6.6   7550.0\n",
       "138             Timor-Leste  0.487  65.393   3.1   2.0   4410.0\n",
       "139                    Togo  0.429  55.189   5.2   2.3    960.0\n",
       "140                   Tonga  0.701  72.061  11.3  11.5   4590.0\n",
       "141     Trinidad and Tobago  0.755  69.438   9.6   9.7  24230.0\n",
       "142                 Tunisia  0.692  74.918   8.1   4.5   8690.0\n",
       "143                  Turkey  0.690  73.932   8.2   5.8  14260.0\n",
       "144            Turkmenistan  0.677  64.862  11.5  10.8   7040.0\n",
       "145                  Uganda  0.438  56.514   6.1   3.7   1210.0\n",
       "146                 Ukraine  0.720  68.076  12.1  12.2   6190.0\n",
       "147    United Arab Emirates  0.841  76.144   9.5   8.3  50200.0\n",
       "148          United Kingdom  0.860  79.913  13.0  13.0  34960.0\n",
       "149           United States  0.906  78.352  13.7  13.7  45440.0\n",
       "150                 Uruguay  0.773  76.628   9.5  10.0  12410.0\n",
       "151              Uzbekistan  0.631  67.756  11.9  11.3   2940.0\n",
       "152               Venezuela  0.732  73.991   8.6   8.9  12300.0\n",
       "153                 Vietnam  0.584  75.344   8.1   6.9   2840.0\n",
       "154                  Zambia  0.419  53.137   7.5   5.2   1300.0\n",
       "\n",
       "[155 rows x 6 columns]"
      ]
     },
     "execution_count": 13,
     "metadata": {},
     "output_type": "execute_result"
    }
   ],
   "source": [
    "def indicator_data_file(indicator_file):\n",
    "    \n",
    "    df = pd.read_csv(indicator_file)\n",
    "    return df.filter(regex='HDI|Row Labels|Life expectancy|GNI per capita|2009').dropna()  ## Use row labels\n",
    "\n",
    "data = {}\n",
    "data['HDI'] = indicator_data_file('./HDI.csv')\n",
    "data['HDI'].columns = ['Country', 'HDI']\n",
    "data['LEI'] = indicator_data_file('./LEI.csv')\n",
    "data['LEI'].columns = ['Country', 'LEI']\n",
    "data['MEI'] = indicator_data_file('./MEI.csv')\n",
    "data['MEI'].columns = ['Country', 'MEI']\n",
    "data['WEI'] = indicator_data_file('./WEI.csv')\n",
    "data['WEI'].columns = ['Country', 'WEI']\n",
    "data['GNI'] = indicator_data_file('./GNI.csv')\n",
    "data['GNI'].columns = ['Country', 'GNI']\n",
    "\n",
    "df1 = pd.merge(data['HDI'],data['LEI'],on='Country')\n",
    "df2 = pd.merge(df1,data['MEI'],on='Country')\n",
    "df3 = pd.merge(df2,data['WEI'],on='Country')\n",
    "df4 = pd.merge(df3,data['GNI'],on='Country')\n",
    "df4.to_csv(\"indicators.csv\")\n",
    "df4"
   ]
  },
  {
   "cell_type": "markdown",
   "metadata": {},
   "source": [
    "At this point, we write the data from the indicator datasets to a single file `indicators.csv` with the indicators as fields."
   ]
  },
  {
   "cell_type": "markdown",
   "metadata": {},
   "source": [
    "<a id='eda'></a>\n",
    "## Exploratory Data Analysis\n",
    "\n",
    "### How are the HDI and its indicators distributed?\n",
    "For the year 2009, the HDI ranges from a low of 0.277 (Niger) to a high of 0.941 (Norway).  Per the [Human Development Index](https://en.wikipedia.org/wiki/Human_Development_Index) Wikipedia link, it can be seen that geography is a big factor in the distribution of the HDI:  much of central Africa has a low score, whereas North American, Europe, and Australia have high scores.\n",
    "\n",
    "Save for a few exceptions, we find that the indicators (LEI, MEI/WEI, and GNI) follow similar geographical onstraints.  The few exceptions are in the Middle East, where high GNI occurs in Kuwait and the United Arab Emirates."
   ]
  },
  {
   "cell_type": "code",
   "execution_count": 29,
   "metadata": {},
   "outputs": [
    {
     "data": {
      "text/plain": [
       "array([[<matplotlib.axes._subplots.AxesSubplot object at 0x115483b70>]], dtype=object)"
      ]
     },
     "execution_count": 29,
     "metadata": {},
     "output_type": "execute_result"
    },
    {
     "data": {
      "image/png": "[encoded data removed]",
      "text/plain": [
       "<matplotlib.figure.Figure at 0x1158887f0>"
      ]
     },
     "metadata": {},
     "output_type": "display_data"
    }
   ],
   "source": [
    "data['HDI'].hist(bins=155)"
   ]
  },
  {
   "cell_type": "code",
   "execution_count": 32,
   "metadata": {},
   "outputs": [
    {
     "data": {
      "text/plain": [
       "array([[<matplotlib.axes._subplots.AxesSubplot object at 0x115d60be0>]], dtype=object)"
      ]
     },
     "execution_count": 32,
     "metadata": {},
     "output_type": "execute_result"
    },
    {
     "data": {
      "image/png": "[encoded data removed]",
      "text/plain": [
       "<matplotlib.figure.Figure at 0x115d261d0>"
      ]
     },
     "metadata": {},
     "output_type": "display_data"
    }
   ],
   "source": [
    "data['LEI'].hist(bins=155)"
   ]
  },
  {
   "cell_type": "code",
   "execution_count": 35,
   "metadata": {},
   "outputs": [
    {
     "data": {
      "text/plain": [
       "array([[<matplotlib.axes._subplots.AxesSubplot object at 0x11747d208>]], dtype=object)"
      ]
     },
     "execution_count": 35,
     "metadata": {},
     "output_type": "execute_result"
    },
    {
     "data": {
      "image/png": "[encoded data removed]",
      "text/plain": [
       "<matplotlib.figure.Figure at 0x117442908>"
      ]
     },
     "metadata": {},
     "output_type": "display_data"
    }
   ],
   "source": [
    "data['MEI'].hist(bins=155)"
   ]
  },
  {
   "cell_type": "code",
   "execution_count": 36,
   "metadata": {},
   "outputs": [
    {
     "data": {
      "text/plain": [
       "array([[<matplotlib.axes._subplots.AxesSubplot object at 0x11767f8d0>]], dtype=object)"
      ]
     },
     "execution_count": 36,
     "metadata": {},
     "output_type": "execute_result"
    },
    {
     "data": {
      "image/png": "[encoded data removed]",
      "text/plain": [
       "<matplotlib.figure.Figure at 0x1177bd358>"
      ]
     },
     "metadata": {},
     "output_type": "display_data"
    }
   ],
   "source": [
    "data['WEI'].hist(bins=155)"
   ]
  },
  {
   "cell_type": "code",
   "execution_count": 37,
   "metadata": {},
   "outputs": [
    {
     "data": {
      "text/plain": [
       "array([[<matplotlib.axes._subplots.AxesSubplot object at 0x1178e7470>]], dtype=object)"
      ]
     },
     "execution_count": 37,
     "metadata": {},
     "output_type": "execute_result"
    },
    {
     "data": {
      "image/png": "[encoded data removed]",
      "text/plain": [
       "<matplotlib.figure.Figure at 0x1178a0d30>"
      ]
     },
     "metadata": {},
     "output_type": "display_data"
    }
   ],
   "source": [
    "data['GNI'].hist(bins=155)"
   ]
  },
  {
   "cell_type": "markdown",
   "metadata": {},
   "source": [
    "### Research Question 2  (Replace this header name!)"
   ]
  },
  {
   "cell_type": "code",
   "execution_count": 26,
   "metadata": {},
   "outputs": [
    {
     "data": {
      "text/plain": [
       "<matplotlib.axes._subplots.AxesSubplot at 0x1153a2278>"
      ]
     },
     "execution_count": 26,
     "metadata": {},
     "output_type": "execute_result"
    },
    {
     "data": {
      "image/png": "[encoded data removed]",
      "text/plain": [
       "<matplotlib.figure.Figure at 0x10c531dd8>"
      ]
     },
     "metadata": {},
     "output_type": "display_data"
    }
   ],
   "source": [
    "df4.plot.scatter(x='HDI',y='LEI')"
   ]
  },
  {
   "cell_type": "code",
   "execution_count": 31,
   "metadata": {},
   "outputs": [
    {
     "data": {
      "text/plain": [
       "0.88162010435976934"
      ]
     },
     "execution_count": 31,
     "metadata": {},
     "output_type": "execute_result"
    }
   ],
   "source": [
    "df4['HDI'].corr(df4['LEI'])"
   ]
  },
  {
   "cell_type": "code",
   "execution_count": 39,
   "metadata": {},
   "outputs": [
    {
     "data": {
      "text/plain": [
       "<matplotlib.axes._subplots.AxesSubplot at 0x117bb9588>"
      ]
     },
     "execution_count": 39,
     "metadata": {},
     "output_type": "execute_result"
    },
    {
     "data": {
      "image/png": "[encoded data removed]",
      "text/plain": [
       "<matplotlib.figure.Figure at 0x117c45780>"
      ]
     },
     "metadata": {},
     "output_type": "display_data"
    }
   ],
   "source": [
    "df4.plot.scatter(x='HDI',y='MEI')"
   ]
  },
  {
   "cell_type": "code",
   "execution_count": 42,
   "metadata": {},
   "outputs": [
    {
     "data": {
      "text/plain": [
       "0.85751366339873092"
      ]
     },
     "execution_count": 42,
     "metadata": {},
     "output_type": "execute_result"
    }
   ],
   "source": [
    "df4['HDI'].corr(df4['MEI'])"
   ]
  },
  {
   "cell_type": "code",
   "execution_count": 40,
   "metadata": {},
   "outputs": [
    {
     "data": {
      "text/plain": [
       "<matplotlib.axes._subplots.AxesSubplot at 0x117b5e208>"
      ]
     },
     "execution_count": 40,
     "metadata": {},
     "output_type": "execute_result"
    },
    {
     "data": {
      "image/png": "[encoded data removed]",
      "text/plain": [
       "<matplotlib.figure.Figure at 0x117cd4240>"
      ]
     },
     "metadata": {},
     "output_type": "display_data"
    }
   ],
   "source": [
    "df4.plot.scatter(x='HDI',y='WEI')"
   ]
  },
  {
   "cell_type": "code",
   "execution_count": 43,
   "metadata": {},
   "outputs": [
    {
     "data": {
      "text/plain": [
       "0.87073001515271919"
      ]
     },
     "execution_count": 43,
     "metadata": {},
     "output_type": "execute_result"
    }
   ],
   "source": [
    "df4['HDI'].corr(df4['WEI'])"
   ]
  },
  {
   "cell_type": "code",
   "execution_count": 41,
   "metadata": {},
   "outputs": [
    {
     "data": {
      "text/plain": [
       "<matplotlib.axes._subplots.AxesSubplot at 0x117e2d4a8>"
      ]
     },
     "execution_count": 41,
     "metadata": {},
     "output_type": "execute_result"
    },
    {
     "data": {
      "image/png": "[encoded data removed]",
      "text/plain": [
       "<matplotlib.figure.Figure at 0x117c3a9b0>"
      ]
     },
     "metadata": {},
     "output_type": "display_data"
    }
   ],
   "source": [
    "# Continue to explore the data to address your additional research\n",
    "#   questions. Add more headers as needed if you have more questions to\n",
    "#   investigate.\n",
    "df4.plot.scatter(x='HDI',y='GNI')"
   ]
  },
  {
   "cell_type": "code",
   "execution_count": 44,
   "metadata": {},
   "outputs": [
    {
     "data": {
      "text/plain": [
       "0.76559170847699831"
      ]
     },
     "execution_count": 44,
     "metadata": {},
     "output_type": "execute_result"
    }
   ],
   "source": [
    "df4['HDI'].corr(df4['GNI'])"
   ]
  },
  {
   "cell_type": "markdown",
   "metadata": {},
   "source": [
    "<a id='conclusions'></a>\n",
    "## Conclusions\n",
    "\n",
    "> **Tip**: Finally, summarize your findings and the results that have been performed. Make sure that you are clear with regards to the limitations of your exploration. If you haven't done any statistical tests, do not imply any statistical conclusions. And make sure you avoid implying causation from correlation!\n",
    "\n",
    "> **Tip**: Once you are satisfied with your work, you should save a copy of the report in HTML or PDF form via the **File** > **Download as** submenu. Before exporting your report, check over it to make sure that the flow of the report is complete. You should probably remove all of the \"Tip\" quotes like this one so that the presentation is as tidy as possible. Congratulations!"
   ]
  },
  {
   "cell_type": "code",
   "execution_count": null,
   "metadata": {
    "collapsed": true
   },
   "outputs": [],
   "source": []
  }
 ],
 "metadata": {
  "kernelspec": {
   "display_name": "Python 3",
   "language": "python",
   "name": "python3"
  },
  "language_info": {
   "codemirror_mode": {
    "name": "ipython",
    "version": 3
   },
   "file_extension": ".py",
   "mimetype": "text/x-python",
   "name": "python",
   "nbconvert_exporter": "python",
   "pygments_lexer": "ipython3",
   "version": "3.6.3"
  }
 },
 "nbformat": 4,
 "nbformat_minor": 2
}
